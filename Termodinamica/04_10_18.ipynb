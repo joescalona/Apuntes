{
 "cells": [
  {
   "cell_type": "markdown",
   "metadata": {},
   "source": [
    "# Ciclo de Carnot  "
   ]
  },
  {
   "cell_type": "markdown",
   "metadata": {},
   "source": [
    "Corresponde a dos procesos adiabáticos y dos procesos isotéricos. Se supone que un gas ideal contenido en un cilíndro con un élbolo móvil. \n",
    "\n",
    "**Todos los procesos son reversibles **"
   ]
  },
  {
   "cell_type": "markdown",
   "metadata": {},
   "source": [
    "## Diagrama P-V de un ciclo de Carnot  "
   ]
  },
  {
   "cell_type": "markdown",
   "metadata": {},
   "source": [
    "*Insertar gráfico 1*"
   ]
  },
  {
   "cell_type": "markdown",
   "metadata": {},
   "source": [
    "### Proceso a-b $\\rightarrow$ isotérmico  "
   ]
  },
  {
   "cell_type": "markdown",
   "metadata": {},
   "source": [
    "Expresión isotérmica a temperatura $T_2$, en la cual el gas se pone en contacto con un depósito de calor que está a temperatura entre proceso, el gas absorbe el calor $Q_2$ del depósito y realiza un trabajo $$W_{ab} = nRT_2 \\thinspace ln\\left(\\dfrac{V_b}{V_a}\\right)$$\n",
    "\n",
    "Apuntes de profesor"
   ]
  },
  {
   "cell_type": "markdown",
   "metadata": {},
   "source": [
    "### Proceso b-c $\\rightarrow$ Adiabático "
   ]
  },
  {
   "cell_type": "markdown",
   "metadata": {},
   "source": [
    "El gas se expande de manera adiabática ($Q = 0$). La temperatura desciende hasta un valor inferior $T_1$. El gas realiza un trabajo $W_{bc}$ al levantar el émbolo\n",
    "\n",
    "$$ W_{bc} = \\dfrac{1}{1-y} \\left[ P_c V_c - P_b V_b \\right] $$"
   ]
  },
  {
   "cell_type": "markdown",
   "metadata": {},
   "source": [
    "### Proceso c-d $\\rightarrow$ Isotérmico "
   ]
  },
  {
   "cell_type": "markdown",
   "metadata": {},
   "source": [
    "El gas se pone en contacto con un depósito de calor a temperatura $T_1$ y se comprime isotérmicamente a la temperatura $T_1$. Durante este tiempo, el gas expulsa (libera) el calor $Q_1$ hacia el depósito y el $W$ realizado sobre el gas es \n",
    "\n",
    "$$ W_{cd} = nRT_1  \\thinspace ln\\left(\\dfrac{V_d}{V_c}\\right) $$"
   ]
  },
  {
   "cell_type": "markdown",
   "metadata": {},
   "source": [
    "### Proceso d-a $\\rightarrow$ adiabático "
   ]
  },
  {
   "cell_type": "markdown",
   "metadata": {},
   "source": [
    "Se comprime el gas de forma adiabática ($Q=0$). La temperatura del gas aumenta a $T_2$ y el $W$ realizado sobre el gas es \n",
    "\n",
    "$$ W_{da} = \\dfrac{1}{1-y} \\left[ P_a V_a - P_d V_d \\right] $$"
   ]
  },
  {
   "cell_type": "markdown",
   "metadata": {},
   "source": []
  },
  {
   "cell_type": "markdown",
   "metadata": {},
   "source": []
  },
  {
   "cell_type": "markdown",
   "metadata": {},
   "source": []
  },
  {
   "cell_type": "markdown",
   "metadata": {},
   "source": []
  },
  {
   "cell_type": "markdown",
   "metadata": {},
   "source": []
  },
  {
   "cell_type": "markdown",
   "metadata": {},
   "source": []
  },
  {
   "cell_type": "markdown",
   "metadata": {},
   "source": []
  },
  {
   "cell_type": "markdown",
   "metadata": {},
   "source": []
  },
  {
   "cell_type": "markdown",
   "metadata": {},
   "source": []
  },
  {
   "cell_type": "markdown",
   "metadata": {},
   "source": []
  },
  {
   "cell_type": "markdown",
   "metadata": {},
   "source": []
  },
  {
   "cell_type": "markdown",
   "metadata": {},
   "source": []
  },
  {
   "cell_type": "markdown",
   "metadata": {},
   "source": []
  },
  {
   "cell_type": "markdown",
   "metadata": {},
   "source": []
  },
  {
   "cell_type": "markdown",
   "metadata": {},
   "source": []
  },
  {
   "cell_type": "markdown",
   "metadata": {},
   "source": []
  },
  {
   "cell_type": "markdown",
   "metadata": {},
   "source": []
  }
 ],
 "metadata": {
  "kernelspec": {
   "display_name": "Python [conda env:anaconda2]",
   "language": "python",
   "name": "conda-env-anaconda2-py"
  },
  "language_info": {
   "codemirror_mode": {
    "name": "ipython",
    "version": 2
   },
   "file_extension": ".py",
   "mimetype": "text/x-python",
   "name": "python",
   "nbconvert_exporter": "python",
   "pygments_lexer": "ipython2",
   "version": "2.7.15"
  }
 },
 "nbformat": 4,
 "nbformat_minor": 2
}
